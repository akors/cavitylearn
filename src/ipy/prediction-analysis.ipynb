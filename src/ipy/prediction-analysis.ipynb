{
 "cells": [
  {
   "cell_type": "code",
   "execution_count": null,
   "metadata": {
    "collapsed": true
   },
   "outputs": [],
   "source": [
    "import sys\n",
    "import pandas as pd\n",
    "import numpy as np"
   ]
  },
  {
   "cell_type": "code",
   "execution_count": null,
   "metadata": {
    "collapsed": false
   },
   "outputs": [],
   "source": [
    "import cavitylearn.data\n",
    "import cavitylearn.converter\n",
    "import cavitylearn.evaluate"
   ]
  },
  {
   "cell_type": "code",
   "execution_count": null,
   "metadata": {
    "collapsed": true
   },
   "outputs": [],
   "source": [
    "DATASETDIR = \"/share/scratch/cavitylearn/dataset-test/\"\n",
    "PREDICTIONSFILE = \"/share/scratch/cavitylearn/dataset-test/predictions.net_C16-P-C32-P-C64-P-L1024-1024_kpf=0.75_rep2.test.csv\""
   ]
  },
  {
   "cell_type": "code",
   "execution_count": null,
   "metadata": {
    "collapsed": false
   },
   "outputs": [],
   "source": [
    "dataconfig = cavitylearn.data.read_dataconfig(DATASETDIR + \"datainfo.ini\")"
   ]
  },
  {
   "cell_type": "code",
   "execution_count": null,
   "metadata": {
    "collapsed": false
   },
   "outputs": [],
   "source": [
    "predicted = pd.read_csv(PREDICTIONSFILE, index_col=0)"
   ]
  },
  {
   "cell_type": "code",
   "execution_count": null,
   "metadata": {
    "collapsed": false
   },
   "outputs": [],
   "source": [
    "predicted"
   ]
  },
  {
   "cell_type": "code",
   "execution_count": null,
   "metadata": {
    "collapsed": false
   },
   "outputs": [],
   "source": [
    "predicted.iloc[:,1:].as_matrix()"
   ]
  },
  {
   "cell_type": "code",
   "execution_count": null,
   "metadata": {
    "collapsed": false
   },
   "outputs": [],
   "source": [
    "np.argmax(predicted.iloc[:,1:].as_matrix(), axis=1)"
   ]
  },
  {
   "cell_type": "code",
   "execution_count": null,
   "metadata": {
    "collapsed": false
   },
   "outputs": [],
   "source": [
    "true_idx = cavitylearn.converter.labels_to_classindex(predicted.iloc[:,0], dataconfig.classes)"
   ]
  },
  {
   "cell_type": "code",
   "execution_count": null,
   "metadata": {
    "collapsed": false
   },
   "outputs": [],
   "source": [
    "confusion_matrix = cavitylearn.evaluate._calc_confusion_matrix(predicted.iloc[:,1:].as_matrix(), true_idx, len(dataconfig.classes))"
   ]
  },
  {
   "cell_type": "code",
   "execution_count": null,
   "metadata": {
    "collapsed": false
   },
   "outputs": [],
   "source": [
    "num_classes = confusion_matrix.shape[0]\n",
    "\n",
    "accuracy = np.trace(confusion_matrix) / np.sum(confusion_matrix)\n",
    "\n",
    "precision = np.zeros(num_classes, dtype=np.float32)\n",
    "recall = np.zeros(num_classes, dtype=np.float32)\n",
    "for i in range(num_classes):\n",
    "    precision[i] = confusion_matrix[i, i] / np.sum(confusion_matrix[:, i])\n",
    "    recall[i] = confusion_matrix[i, i] / np.sum(confusion_matrix[i, :])\n",
    "\n",
    "f_score = (precision * recall) / (precision + recall)\n",
    "g_score = np.sqrt(precision * recall)\n",
    "\n",
    "{\n",
    "    \"confusion_matrix\": confusion_matrix,\n",
    "    \"accuracy\": accuracy,\n",
    "    \"precision\": precision,\n",
    "    \"recall\": recall,\n",
    "    \"f_score\": f_score,\n",
    "    \"g_score\": g_score\n",
    "}"
   ]
  },
  {
   "cell_type": "code",
   "execution_count": null,
   "metadata": {
    "collapsed": true
   },
   "outputs": [],
   "source": []
  }
 ],
 "metadata": {
  "kernelspec": {
   "display_name": "Python 3",
   "language": "python",
   "name": "python3"
  },
  "language_info": {
   "codemirror_mode": {
    "name": "ipython",
    "version": 3
   },
   "file_extension": ".py",
   "mimetype": "text/x-python",
   "name": "python",
   "nbconvert_exporter": "python",
   "pygments_lexer": "ipython3",
   "version": "3.5.2"
  }
 },
 "nbformat": 4,
 "nbformat_minor": 1
}
