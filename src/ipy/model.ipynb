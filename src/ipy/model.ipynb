{
 "cells": [
  {
   "cell_type": "markdown",
   "metadata": {},
   "source": [
    "This notebook is only for testing. Maybe we can build a working model from this, and then we can start putting code into the \"model\" python module."
   ]
  },
  {
   "cell_type": "code",
   "execution_count": 1,
   "metadata": {
    "collapsed": false
   },
   "outputs": [],
   "source": [
    "import tensorflow as tf\n",
    "import numpy as np\n",
    "import time\n",
    "import importlib\n",
    "import os\n",
    "import re"
   ]
  },
  {
   "cell_type": "code",
   "execution_count": 2,
   "metadata": {
    "collapsed": true
   },
   "outputs": [],
   "source": [
    "import sys\n",
    "sys.path.append('../py')\n",
    "import cavitylearn.data\n",
    "import cavitylearn.catalonet0"
   ]
  },
  {
   "cell_type": "markdown",
   "metadata": {},
   "source": [
    "## Loading Data"
   ]
  },
  {
   "cell_type": "code",
   "execution_count": 3,
   "metadata": {
    "collapsed": true
   },
   "outputs": [],
   "source": [
    "dataset_basedir = '/var/cavitylearn/dataset-test/'"
   ]
  },
  {
   "cell_type": "code",
   "execution_count": 5,
   "metadata": {
    "collapsed": false,
    "scrolled": true
   },
   "outputs": [],
   "source": [
    "dataconfig = cavitylearn.data.read_dataconfig(os.path.join(dataset_basedir, \"datainfo.ini\"))\n",
    "boxfiles = [e.path for e in os.scandir(os.path.join(dataset_basedir, \"boxes\")) if e.is_file()]\n",
    "with open(os.path.join(dataset_basedir, \"labels.txt\"), 'rt') as labelfile:\n",
    "    trainset = cavitylearn.data.DataSet(labelfile, boxfiles, dataconfig)"
   ]
  },
  {
   "cell_type": "code",
   "execution_count": 6,
   "metadata": {
    "collapsed": false
   },
   "outputs": [
    {
     "name": "stdout",
     "output_type": "stream",
     "text": [
      "Examples available in dataset:  21687\n"
     ]
    }
   ],
   "source": [
    "print('Examples available in dataset: ', trainset.N)"
   ]
  },
  {
   "cell_type": "markdown",
   "metadata": {},
   "source": [
    "## Building the model"
   ]
  },
  {
   "cell_type": "code",
   "execution_count": 7,
   "metadata": {
    "collapsed": false
   },
   "outputs": [],
   "source": [
    "boxes_placeholder = tf.placeholder(tf.float32, shape=[None, dataconfig.boxshape[0], dataconfig.boxshape[1], dataconfig.boxshape[2], dataconfig.num_props])\n",
    "labels_placholder = tf.placeholder(tf.float32, shape=[None, dataconfig.num_classes])"
   ]
  },
  {
   "cell_type": "code",
   "execution_count": 8,
   "metadata": {
    "collapsed": false
   },
   "outputs": [],
   "source": [
    "logits = cavitylearn.catalonet0.inference(boxes_placeholder, dataconfig)"
   ]
  },
  {
   "cell_type": "code",
   "execution_count": 9,
   "metadata": {
    "collapsed": false
   },
   "outputs": [],
   "source": [
    "loss = cavitylearn.catalonet0.loss(logits, labels_placholder)"
   ]
  },
  {
   "cell_type": "code",
   "execution_count": 10,
   "metadata": {
    "collapsed": true
   },
   "outputs": [],
   "source": [
    "global_step = tf.Variable(0, name='global_step', trainable=False)"
   ]
  },
  {
   "cell_type": "code",
   "execution_count": 11,
   "metadata": {
    "collapsed": false
   },
   "outputs": [],
   "source": [
    "train_op = cavitylearn.catalonet0.train(loss, 1e-4, global_step)"
   ]
  },
  {
   "cell_type": "code",
   "execution_count": 12,
   "metadata": {
    "collapsed": false
   },
   "outputs": [
    {
     "data": {
      "text/plain": [
       "<tf.Tensor 'ScalarSummary_1:0' shape=() dtype=string>"
      ]
     },
     "execution_count": 12,
     "metadata": {},
     "output_type": "execute_result"
    }
   ],
   "source": [
    "correct_prediction = tf.equal(tf.argmax(logits,1),  tf.argmax(labels_placholder,1))\n",
    "accuracy = tf.reduce_mean(tf.cast(correct_prediction, tf.float32), name=\"accuracy\")\n",
    "tf.scalar_summary(\"accuracy\", accuracy)"
   ]
  },
  {
   "cell_type": "markdown",
   "metadata": {},
   "source": [
    "## Training the Model"
   ]
  },
  {
   "cell_type": "code",
   "execution_count": 13,
   "metadata": {
    "collapsed": true
   },
   "outputs": [],
   "source": [
    "def purge(directory, pattern):\n",
    "    for f in os.listdir(directory):\n",
    "        if re.search(pattern, f):\n",
    "            os.remove(os.path.join(directory, f))"
   ]
  },
  {
   "cell_type": "code",
   "execution_count": 14,
   "metadata": {
    "collapsed": true
   },
   "outputs": [],
   "source": [
    "saver = tf.train.Saver()"
   ]
  },
  {
   "cell_type": "code",
   "execution_count": 15,
   "metadata": {
    "collapsed": true
   },
   "outputs": [],
   "source": [
    "summary_op = tf.merge_all_summaries()"
   ]
  },
  {
   "cell_type": "code",
   "execution_count": 19,
   "metadata": {
    "collapsed": true
   },
   "outputs": [],
   "source": [
    "CONTINUE = True\n",
    "BATCHSIZE = 50\n",
    "NUM_BATCHES = 10\n",
    "run_name = \"run0\"\n",
    "CHECKPOINT_FREQUENCY = 20"
   ]
  },
  {
   "cell_type": "code",
   "execution_count": 22,
   "metadata": {
    "collapsed": false,
    "scrolled": true
   },
   "outputs": [
    {
     "name": "stdout",
     "output_type": "stream",
     "text": [
      ".........."
     ]
    }
   ],
   "source": [
    "checkpoint_dir = os.path.join(dataset_basedir, \"checkpoints\", run_name)\n",
    "run_dir = dataset_basedir\n",
    "trainset.rewind_batches()\n",
    "with tf.Session() as sess:\n",
    "    if not os.path.isdir(os.path.join(run_dir, \"logs\", run_name)):\n",
    "        os.makedirs(os.path.join(run_dir, \"logs\", run_name))\n",
    "    \n",
    "    # purge log directory for run, before running it again\n",
    "    purge(os.path.join(dataset_basedir, \"logs\", run_name), r'^events\\.out\\.tfevents\\.\\d+')\n",
    "    \n",
    "    # Create summary writer\n",
    "    summary_writer = tf.train.SummaryWriter(os.path.join(dataset_basedir, \"logs\", run_name), sess.graph)\n",
    "    \n",
    "    \n",
    "    sess.run(tf.initialize_all_variables())\n",
    "    \n",
    "    start_time = time.time()\n",
    "    for i in range(NUM_BATCHES):\n",
    "        # get training data\n",
    "        labels, boxes = trainset.next_batch(BATCHSIZE)\n",
    "        \n",
    "        # abort training if we didn't get any more data\n",
    "        if len(labels) == 0:\n",
    "            break\n",
    "        \n",
    "        feed_dict = {\n",
    "            boxes_placeholder: boxes,\n",
    "            labels_placholder: labels\n",
    "        }\n",
    "        \n",
    "        # Do it!\n",
    "        sess.run(train_op, feed_dict=feed_dict)\n",
    "        print('.', end=\"\")\n",
    "        \n",
    "        \n",
    "        summary_str, step = sess.run([summary_op, global_step], feed_dict=feed_dict)\n",
    "        summary_writer.add_summary(summary_str, step)\n",
    "        summary_writer.flush()\n",
    "        \n",
    "        if i % CHECKPOINT_FREQUENCY == 0:\n",
    "            saver.save(sess, checkpoint_dir, global_step=global_step)\n",
    "            \n",
    "        \n",
    "    saver.save(sess, checkpoint_dir, global_step=global_step)\n",
    "    end_time = time.time()"
   ]
  },
  {
   "cell_type": "code",
   "execution_count": 23,
   "metadata": {
    "collapsed": false
   },
   "outputs": [
    {
     "name": "stdout",
     "output_type": "stream",
     "text": [
      "Total time:  10.981575727462769\n",
      "Time per batch:  1.098157572746277\n"
     ]
    }
   ],
   "source": [
    "print(\"Total time: \", str(end_time - start_time))\n",
    "print(\"Time per batch: \", str((end_time - start_time)/NUM_BATCHES))"
   ]
  },
  {
   "cell_type": "markdown",
   "metadata": {
    "collapsed": true
   },
   "source": [
    "importlib.reload(cavitylearn.catalonet0)\n",
    "tf.reset_default_graph()"
   ]
  }
 ],
 "metadata": {
  "kernelspec": {
   "display_name": "Python 3",
   "language": "python",
   "name": "python3"
  },
  "language_info": {
   "codemirror_mode": {
    "name": "ipython",
    "version": 3
   },
   "file_extension": ".py",
   "mimetype": "text/x-python",
   "name": "python",
   "nbconvert_exporter": "python",
   "pygments_lexer": "ipython3",
   "version": "3.5.1"
  }
 },
 "nbformat": 4,
 "nbformat_minor": 0
}
