{
 "cells": [
  {
   "cell_type": "markdown",
   "metadata": {},
   "source": [
    "This notebook is only for testing. Maybe we can build a working model from this, and then we can start putting code into the \"model\" python module."
   ]
  },
  {
   "cell_type": "code",
   "execution_count": 1,
   "metadata": {
    "collapsed": true
   },
   "outputs": [],
   "source": [
    "import sys\n",
    "sys.path.append('../py')"
   ]
  },
  {
   "cell_type": "code",
   "execution_count": 2,
   "metadata": {
    "collapsed": false
   },
   "outputs": [],
   "source": [
    "import tensorflow as tf\n",
    "import numpy as np\n",
    "import time\n",
    "import importlib"
   ]
  },
  {
   "cell_type": "code",
   "execution_count": 3,
   "metadata": {
    "collapsed": true
   },
   "outputs": [],
   "source": [
    "import cavitylearn.data\n",
    "import cavitylearn.catalonet0"
   ]
  },
  {
   "cell_type": "code",
   "execution_count": 4,
   "metadata": {
    "collapsed": false
   },
   "outputs": [
    {
     "data": {
      "text/plain": [
       "<module 'cavitylearn.catalonet0' from '../py/cavitylearn/catalonet0.py'>"
      ]
     },
     "execution_count": 4,
     "metadata": {},
     "output_type": "execute_result"
    }
   ],
   "source": [
    "importlib.reload(cavitylearn.catalonet0)"
   ]
  },
  {
   "cell_type": "code",
   "execution_count": 5,
   "metadata": {
    "collapsed": true
   },
   "outputs": [],
   "source": [
    "config = tf.ConfigProto(\n",
    "        #device_count = {'GPU': 0}\n",
    "    )"
   ]
  },
  {
   "cell_type": "code",
   "execution_count": 6,
   "metadata": {
    "collapsed": false
   },
   "outputs": [],
   "source": [
    "sess = tf.InteractiveSession(config=config)"
   ]
  },
  {
   "cell_type": "code",
   "execution_count": 7,
   "metadata": {
    "collapsed": false,
    "scrolled": true
   },
   "outputs": [],
   "source": [
    "dataconfig = cavitylearn.data.DataConfig(classes=[\"SO4\",\"GOL\",\"EDO\",\"HEM\",\"NAG\",\"PO4\",\"ACT\"], num_props=8, boxshape=[30, 30, 30])\n",
    "with open('/var/cavitylearn/dataset-test/labels.txt', 'rt') as labelfile:\n",
    "    trainset = cavitylearn.data.DataSet(labelfile, '/var/cavitylearn/dataset-test', dataconfig)"
   ]
  },
  {
   "cell_type": "code",
   "execution_count": 8,
   "metadata": {
    "collapsed": false
   },
   "outputs": [
    {
     "data": {
      "text/plain": [
       "21687"
      ]
     },
     "execution_count": 8,
     "metadata": {},
     "output_type": "execute_result"
    }
   ],
   "source": [
    "trainset.N"
   ]
  },
  {
   "cell_type": "code",
   "execution_count": 9,
   "metadata": {
    "collapsed": false
   },
   "outputs": [],
   "source": [
    "boxes_placeholder = tf.placeholder(tf.float32, shape=[None, dataconfig.boxshape[0], dataconfig.boxshape[1], dataconfig.boxshape[2], dataconfig.num_props])"
   ]
  },
  {
   "cell_type": "code",
   "execution_count": 10,
   "metadata": {
    "collapsed": false
   },
   "outputs": [],
   "source": [
    "labels_placholder = tf.placeholder(tf.float32, shape=[None, dataconfig.num_classes])"
   ]
  },
  {
   "cell_type": "code",
   "execution_count": 11,
   "metadata": {
    "collapsed": false
   },
   "outputs": [],
   "source": [
    "NUM_FILTERS=12\n",
    "PIXELS= dataconfig.boxshape[0] * dataconfig.boxshape[1] * dataconfig.boxshape[2]\n",
    "BATCHSIZE=50"
   ]
  },
  {
   "cell_type": "code",
   "execution_count": 12,
   "metadata": {
    "collapsed": false
   },
   "outputs": [],
   "source": [
    "logits = cavitylearn.catalonet0.inference(boxes_placeholder, dataconfig)"
   ]
  },
  {
   "cell_type": "code",
   "execution_count": 13,
   "metadata": {
    "collapsed": false
   },
   "outputs": [],
   "source": [
    "cross_entropy = tf.reduce_mean(-tf.reduce_sum(labels_placholder * tf.log(logits), reduction_indices=[1]))"
   ]
  },
  {
   "cell_type": "code",
   "execution_count": 14,
   "metadata": {
    "collapsed": true
   },
   "outputs": [],
   "source": [
    "sess.run(tf.initialize_all_variables())"
   ]
  },
  {
   "cell_type": "code",
   "execution_count": 15,
   "metadata": {
    "collapsed": true
   },
   "outputs": [],
   "source": [
    "train_step = tf.train.GradientDescentOptimizer(0.5).minimize(cross_entropy)"
   ]
  },
  {
   "cell_type": "code",
   "execution_count": 16,
   "metadata": {
    "collapsed": true
   },
   "outputs": [],
   "source": [
    "correct_prediction = tf.equal(tf.argmax(logits,1),  tf.argmax(labels_placholder,1))"
   ]
  },
  {
   "cell_type": "code",
   "execution_count": 17,
   "metadata": {
    "collapsed": true
   },
   "outputs": [],
   "source": [
    "accuracy = tf.reduce_mean(tf.cast(correct_prediction, tf.float32))"
   ]
  },
  {
   "cell_type": "code",
   "execution_count": 18,
   "metadata": {
    "collapsed": true
   },
   "outputs": [],
   "source": [
    "NUM_BATCHES=100"
   ]
  },
  {
   "cell_type": "code",
   "execution_count": 19,
   "metadata": {
    "collapsed": false,
    "scrolled": true
   },
   "outputs": [
    {
     "name": "stdout",
     "output_type": "stream",
     "text": [
      "; 0.22; 0.18; 0.12; 0.18; 0.24; 0.16; 0.24; 0.22; 0.26; 0.2; 0.22; 0.12; 0.18; 0.22; 0.2; 0.2; 0.24; 0.26; 0.24; 0.18; 0.18; 0.26; 0.28; 0.2; 0.04; 0.26; 0.18; 0.2; 0.18; 0.28; 0.22; 0.14; 0.24; 0.2; 0.26; 0.26; 0.22; 0.16; 0.26; 0.34; 0.18; 0.2; 0.38; 0.3; 0.26; 0.22; 0.22; 0.18; 0.14; 0.18; 0.16; 0.18; 0.14; 0.3; 0.24; 0.1; 0.18; 0.26; 0.18; 0.28; 0.22; 0.18; 0.2; 0.16; 0.24; 0.14; 0.16; 0.18; 0.18; 0.2; 0.28; 0.18; 0.14; 0.24; 0.14; 0.28; 0.24; 0.3; 0.06; 0.24; 0.16; 0.24; 0.16; 0.2; 0.26; 0.2; 0.16; 0.14; 0.22; 0.22; 0.12; 0.18; 0.28; 0.2; 0.2; 0.2; 0.14; 0.16; 0.18; 0.22"
     ]
    }
   ],
   "source": [
    "start_time = time.time()\n",
    "for i in range(NUM_BATCHES):\n",
    "    labels, boxes = trainset.next_batch(BATCHSIZE)\n",
    "    train_step.run(feed_dict={boxes_placeholder: boxes, labels_placholder: labels})\n",
    "    print(';', str(accuracy.eval(feed_dict={boxes_placeholder: boxes, labels_placholder: labels})), end='')\n",
    "end_time = time.time()"
   ]
  },
  {
   "cell_type": "code",
   "execution_count": 20,
   "metadata": {
    "collapsed": false
   },
   "outputs": [
    {
     "name": "stdout",
     "output_type": "stream",
     "text": [
      "Total time:  81.55472660064697\n",
      "Time per batch:  0.8155472660064698\n"
     ]
    }
   ],
   "source": [
    "print(\"Total time: \", str(end_time - start_time))\n",
    "print(\"Time per batch: \", str((end_time - start_time)/NUM_BATCHES))"
   ]
  },
  {
   "cell_type": "code",
   "execution_count": null,
   "metadata": {
    "collapsed": true
   },
   "outputs": [],
   "source": []
  }
 ],
 "metadata": {
  "kernelspec": {
   "display_name": "Python 3",
   "language": "python",
   "name": "python3"
  },
  "language_info": {
   "codemirror_mode": {
    "name": "ipython",
    "version": 3
   },
   "file_extension": ".py",
   "mimetype": "text/x-python",
   "name": "python",
   "nbconvert_exporter": "python",
   "pygments_lexer": "ipython3",
   "version": "3.5.1+"
  }
 },
 "nbformat": 4,
 "nbformat_minor": 0
}
